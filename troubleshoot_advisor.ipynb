{
 "cells": [
  {
   "cell_type": "code",
   "execution_count": 34,
   "metadata": {},
   "outputs": [],
   "source": [
    "import pandas as pd\n",
    "import pandas as pd\n",
    "from sklearn import feature_extraction, model_selection\n",
    "from sklearn.naive_bayes import MultinomialNB\n",
    "from sklearn.multiclass import OneVsRestClassifier\n",
    "from sklearn.pipeline import Pipeline\n",
    "from sklearn.preprocessing import LabelEncoder\n",
    "import matplotlib.pyplot as plt\n",
    "%matplotlib inline\n",
    "import numpy as np\n",
    "from nltk.corpus import stopwords\n",
    "# Stemming with NLTK\n",
    "from nltk.stem.snowball import SnowballStemmer\n",
    "sw = stopwords.words(\"english\")\n",
    "stemmer=SnowballStemmer(\"english\")"
   ]
  },
  {
   "cell_type": "code",
   "execution_count": 35,
   "metadata": {},
   "outputs": [
    {
     "data": {
      "text/html": [
       "<div>\n",
       "<style scoped>\n",
       "    .dataframe tbody tr th:only-of-type {\n",
       "        vertical-align: middle;\n",
       "    }\n",
       "\n",
       "    .dataframe tbody tr th {\n",
       "        vertical-align: top;\n",
       "    }\n",
       "\n",
       "    .dataframe thead th {\n",
       "        text-align: right;\n",
       "    }\n",
       "</style>\n",
       "<table border=\"1\" class=\"dataframe\">\n",
       "  <thead>\n",
       "    <tr style=\"text-align: right;\">\n",
       "      <th></th>\n",
       "      <th>General.Eriref</th>\n",
       "      <th>Observation.Observation</th>\n",
       "      <th>Main Module</th>\n",
       "      <th>Source Files</th>\n",
       "    </tr>\n",
       "  </thead>\n",
       "  <tbody>\n",
       "    <tr>\n",
       "      <td>0</td>\n",
       "      <td>HX89227</td>\n",
       "      <td>BRANCH:\\n======\\nmaster\\n\\nEFFECT:\\n======\\nPM...</td>\n",
       "      <td>NaN</td>\n",
       "      <td>NaN</td>\n",
       "    </tr>\n",
       "    <tr>\n",
       "      <td>1</td>\n",
       "      <td>HX89043</td>\n",
       "      <td>1 EFFECT\\n1.1 Trouble summary\\nBCH is interrup...</td>\n",
       "      <td>cms</td>\n",
       "      <td>lhsj_main/bscs/tests/robotScripts/src/main/tes...</td>\n",
       "    </tr>\n",
       "    <tr>\n",
       "      <td>2</td>\n",
       "      <td>HX88922</td>\n",
       "      <td>SLOGAN :\\nRounding of clawback with discount i...</td>\n",
       "      <td>bch</td>\n",
       "      <td>lhsj_main/bscs/tests/robotScripts/src/main/tes...</td>\n",
       "    </tr>\n",
       "  </tbody>\n",
       "</table>\n",
       "</div>"
      ],
      "text/plain": [
       "  General.Eriref                            Observation.Observation  \\\n",
       "0        HX89227  BRANCH:\\n======\\nmaster\\n\\nEFFECT:\\n======\\nPM...   \n",
       "1        HX89043  1 EFFECT\\n1.1 Trouble summary\\nBCH is interrup...   \n",
       "2        HX88922  SLOGAN :\\nRounding of clawback with discount i...   \n",
       "\n",
       "  Main Module                                       Source Files  \n",
       "0         NaN                                                NaN  \n",
       "1         cms  lhsj_main/bscs/tests/robotScripts/src/main/tes...  \n",
       "2         bch  lhsj_main/bscs/tests/robotScripts/src/main/tes...  "
      ]
     },
     "execution_count": 35,
     "metadata": {},
     "output_type": "execute_result"
    }
   ],
   "source": [
    "df=pd.read_excel('troubleshoot_data_set.xlsx')\n",
    "df.head(3)"
   ]
  },
  {
   "cell_type": "code",
   "execution_count": 36,
   "metadata": {},
   "outputs": [
    {
     "data": {
      "text/html": [
       "<div>\n",
       "<style scoped>\n",
       "    .dataframe tbody tr th:only-of-type {\n",
       "        vertical-align: middle;\n",
       "    }\n",
       "\n",
       "    .dataframe tbody tr th {\n",
       "        vertical-align: top;\n",
       "    }\n",
       "\n",
       "    .dataframe thead th {\n",
       "        text-align: right;\n",
       "    }\n",
       "</style>\n",
       "<table border=\"1\" class=\"dataframe\">\n",
       "  <thead>\n",
       "    <tr style=\"text-align: right;\">\n",
       "      <th></th>\n",
       "      <th>General.Eriref</th>\n",
       "      <th>Observation.Observation</th>\n",
       "      <th>Main Module</th>\n",
       "      <th>Source Files</th>\n",
       "    </tr>\n",
       "  </thead>\n",
       "  <tbody>\n",
       "    <tr>\n",
       "      <td>count</td>\n",
       "      <td>9577</td>\n",
       "      <td>9577</td>\n",
       "      <td>9439</td>\n",
       "      <td>9438</td>\n",
       "    </tr>\n",
       "    <tr>\n",
       "      <td>unique</td>\n",
       "      <td>6200</td>\n",
       "      <td>6160</td>\n",
       "      <td>103</td>\n",
       "      <td>2588</td>\n",
       "    </tr>\n",
       "    <tr>\n",
       "      <td>top</td>\n",
       "      <td>HV98266</td>\n",
       "      <td>EFFECT:\\n======\\n\\nPerformance drop after 3 ho...</td>\n",
       "      <td>kw</td>\n",
       "      <td>;</td>\n",
       "    </tr>\n",
       "    <tr>\n",
       "      <td>freq</td>\n",
       "      <td>51</td>\n",
       "      <td>51</td>\n",
       "      <td>4711</td>\n",
       "      <td>4523</td>\n",
       "    </tr>\n",
       "  </tbody>\n",
       "</table>\n",
       "</div>"
      ],
      "text/plain": [
       "       General.Eriref                            Observation.Observation  \\\n",
       "count            9577                                               9577   \n",
       "unique           6200                                               6160   \n",
       "top           HV98266  EFFECT:\\n======\\n\\nPerformance drop after 3 ho...   \n",
       "freq               51                                                 51   \n",
       "\n",
       "       Main Module Source Files  \n",
       "count         9439         9438  \n",
       "unique         103         2588  \n",
       "top             kw            ;  \n",
       "freq          4711         4523  "
      ]
     },
     "execution_count": 36,
     "metadata": {},
     "output_type": "execute_result"
    }
   ],
   "source": [
    "df.describe()"
   ]
  },
  {
   "cell_type": "code",
   "execution_count": 37,
   "metadata": {},
   "outputs": [
    {
     "data": {
      "text/plain": [
       "General.Eriref               0\n",
       "Observation.Observation      0\n",
       "Main Module                138\n",
       "Source Files               139\n",
       "dtype: int64"
      ]
     },
     "execution_count": 37,
     "metadata": {},
     "output_type": "execute_result"
    }
   ],
   "source": [
    "df.isnull().sum()"
   ]
  },
  {
   "cell_type": "code",
   "execution_count": 38,
   "metadata": {},
   "outputs": [],
   "source": [
    "df.dropna(inplace=True)"
   ]
  },
  {
   "cell_type": "code",
   "execution_count": 39,
   "metadata": {},
   "outputs": [
    {
     "data": {
      "text/plain": [
       "General.Eriref             0\n",
       "Observation.Observation    0\n",
       "Main Module                0\n",
       "Source Files               0\n",
       "dtype: int64"
      ]
     },
     "execution_count": 39,
     "metadata": {},
     "output_type": "execute_result"
    }
   ],
   "source": [
    "df.isnull().sum()"
   ]
  },
  {
   "cell_type": "code",
   "execution_count": 40,
   "metadata": {},
   "outputs": [
    {
     "data": {
      "text/html": [
       "<div>\n",
       "<style scoped>\n",
       "    .dataframe tbody tr th:only-of-type {\n",
       "        vertical-align: middle;\n",
       "    }\n",
       "\n",
       "    .dataframe tbody tr th {\n",
       "        vertical-align: top;\n",
       "    }\n",
       "\n",
       "    .dataframe thead th {\n",
       "        text-align: right;\n",
       "    }\n",
       "</style>\n",
       "<table border=\"1\" class=\"dataframe\">\n",
       "  <thead>\n",
       "    <tr style=\"text-align: right;\">\n",
       "      <th></th>\n",
       "      <th>general.eriref</th>\n",
       "      <th>observation.observation</th>\n",
       "      <th>mainmodule</th>\n",
       "      <th>sourcefiles</th>\n",
       "    </tr>\n",
       "  </thead>\n",
       "  <tbody>\n",
       "    <tr>\n",
       "      <td>1</td>\n",
       "      <td>HX89043</td>\n",
       "      <td>1 EFFECT\\n1.1 Trouble summary\\nBCH is interrup...</td>\n",
       "      <td>cms</td>\n",
       "      <td>lhsj_main/bscs/tests/robotScripts/src/main/tes...</td>\n",
       "    </tr>\n",
       "    <tr>\n",
       "      <td>2</td>\n",
       "      <td>HX88922</td>\n",
       "      <td>SLOGAN :\\nRounding of clawback with discount i...</td>\n",
       "      <td>bch</td>\n",
       "      <td>lhsj_main/bscs/tests/robotScripts/src/main/tes...</td>\n",
       "    </tr>\n",
       "    <tr>\n",
       "      <td>3</td>\n",
       "      <td>HX88991</td>\n",
       "      <td>SLOGAN:- CX - CWS resource assignment issue\\n\\...</td>\n",
       "      <td>cms</td>\n",
       "      <td>lhsj_main/bscs/cms/src/cms/java/com/lhs/Resour...</td>\n",
       "    </tr>\n",
       "    <tr>\n",
       "      <td>4</td>\n",
       "      <td>HX89000</td>\n",
       "      <td>SLOGAN:- Default value for GPRS activation \"Qu...</td>\n",
       "      <td>cx</td>\n",
       "      <td>lhsj_main/bscs/cms/src/clt/cx/java/com/lhs/ccb...</td>\n",
       "    </tr>\n",
       "    <tr>\n",
       "      <td>5</td>\n",
       "      <td>HX89004</td>\n",
       "      <td>SLOGAN:- CX || Memo creation page missing fiel...</td>\n",
       "      <td>cx</td>\n",
       "      <td>lhsj_main/bscs/tests/robotScripts/src/main/tes...</td>\n",
       "    </tr>\n",
       "  </tbody>\n",
       "</table>\n",
       "</div>"
      ],
      "text/plain": [
       "  general.eriref                            observation.observation  \\\n",
       "1        HX89043  1 EFFECT\\n1.1 Trouble summary\\nBCH is interrup...   \n",
       "2        HX88922  SLOGAN :\\nRounding of clawback with discount i...   \n",
       "3        HX88991  SLOGAN:- CX - CWS resource assignment issue\\n\\...   \n",
       "4        HX89000  SLOGAN:- Default value for GPRS activation \"Qu...   \n",
       "5        HX89004  SLOGAN:- CX || Memo creation page missing fiel...   \n",
       "\n",
       "  mainmodule                                        sourcefiles  \n",
       "1        cms  lhsj_main/bscs/tests/robotScripts/src/main/tes...  \n",
       "2        bch  lhsj_main/bscs/tests/robotScripts/src/main/tes...  \n",
       "3        cms  lhsj_main/bscs/cms/src/cms/java/com/lhs/Resour...  \n",
       "4         cx  lhsj_main/bscs/cms/src/clt/cx/java/com/lhs/ccb...  \n",
       "5         cx  lhsj_main/bscs/tests/robotScripts/src/main/tes...  "
      ]
     },
     "execution_count": 40,
     "metadata": {},
     "output_type": "execute_result"
    }
   ],
   "source": [
    "space_remover_dict = dict(zip(df.columns,[name.replace(' ','').lower() for name in df.columns]))\n",
    "df = df.rename(space_remover_dict,axis=1)\n",
    "df.head()"
   ]
  },
  {
   "cell_type": "code",
   "execution_count": 41,
   "metadata": {},
   "outputs": [],
   "source": [
    "class MultiColumnLabelEncoder:\n",
    "    def __init__(self,columns = None):\n",
    "        self.columns = columns # array of column names to encode\n",
    "\n",
    "    def fit(self,X,y=None):\n",
    "        return self # not relevant here\n",
    "\n",
    "    def transform(self,X):\n",
    "        '''\n",
    "        Transforms columns of X specified in self.columns using\n",
    "        LabelEncoder(). If no columns specified, transforms all\n",
    "        columns in X.\n",
    "        '''\n",
    "        output = X.copy()\n",
    "        if self.columns is not None:\n",
    "            for col in self.columns:\n",
    "                output[col] = LabelEncoder().fit_transform(output[col])\n",
    "        else:\n",
    "            for colname,col in output.iteritems():\n",
    "                output[colname] = LabelEncoder().fit_transform(col)\n",
    "        return output\n",
    "\n",
    "    def fit_transform(self,X,y=None):\n",
    "        return self.fit(X,y).transform(X)"
   ]
  },
  {
   "cell_type": "code",
   "execution_count": 42,
   "metadata": {},
   "outputs": [
    {
     "data": {
      "text/html": [
       "<div>\n",
       "<style scoped>\n",
       "    .dataframe tbody tr th:only-of-type {\n",
       "        vertical-align: middle;\n",
       "    }\n",
       "\n",
       "    .dataframe tbody tr th {\n",
       "        vertical-align: top;\n",
       "    }\n",
       "\n",
       "    .dataframe thead th {\n",
       "        text-align: right;\n",
       "    }\n",
       "</style>\n",
       "<table border=\"1\" class=\"dataframe\">\n",
       "  <thead>\n",
       "    <tr style=\"text-align: right;\">\n",
       "      <th></th>\n",
       "      <th>general.eriref</th>\n",
       "      <th>observation.observation</th>\n",
       "      <th>mainmodule</th>\n",
       "      <th>sourcefiles</th>\n",
       "      <th>en_mainmodule</th>\n",
       "      <th>en_sourcefiles</th>\n",
       "    </tr>\n",
       "  </thead>\n",
       "  <tbody>\n",
       "    <tr>\n",
       "      <td>1</td>\n",
       "      <td>HX89043</td>\n",
       "      <td>1 EFFECT\\n1.1 Trouble summary\\nBCH is interrup...</td>\n",
       "      <td>cms</td>\n",
       "      <td>lhsj_main/bscs/tests/robotScripts/src/main/tes...</td>\n",
       "      <td>29</td>\n",
       "      <td>2206</td>\n",
       "    </tr>\n",
       "    <tr>\n",
       "      <td>2</td>\n",
       "      <td>HX88922</td>\n",
       "      <td>SLOGAN :\\nRounding of clawback with discount i...</td>\n",
       "      <td>bch</td>\n",
       "      <td>lhsj_main/bscs/tests/robotScripts/src/main/tes...</td>\n",
       "      <td>17</td>\n",
       "      <td>2040</td>\n",
       "    </tr>\n",
       "    <tr>\n",
       "      <td>3</td>\n",
       "      <td>HX88991</td>\n",
       "      <td>SLOGAN:- CX - CWS resource assignment issue\\n\\...</td>\n",
       "      <td>cms</td>\n",
       "      <td>lhsj_main/bscs/cms/src/cms/java/com/lhs/Resour...</td>\n",
       "      <td>29</td>\n",
       "      <td>1534</td>\n",
       "    </tr>\n",
       "    <tr>\n",
       "      <td>4</td>\n",
       "      <td>HX89000</td>\n",
       "      <td>SLOGAN:- Default value for GPRS activation \"Qu...</td>\n",
       "      <td>cx</td>\n",
       "      <td>lhsj_main/bscs/cms/src/clt/cx/java/com/lhs/ccb...</td>\n",
       "      <td>33</td>\n",
       "      <td>1227</td>\n",
       "    </tr>\n",
       "    <tr>\n",
       "      <td>5</td>\n",
       "      <td>HX89004</td>\n",
       "      <td>SLOGAN:- CX || Memo creation page missing fiel...</td>\n",
       "      <td>cx</td>\n",
       "      <td>lhsj_main/bscs/tests/robotScripts/src/main/tes...</td>\n",
       "      <td>33</td>\n",
       "      <td>2376</td>\n",
       "    </tr>\n",
       "    <tr>\n",
       "      <td>...</td>\n",
       "      <td>...</td>\n",
       "      <td>...</td>\n",
       "      <td>...</td>\n",
       "      <td>...</td>\n",
       "      <td>...</td>\n",
       "      <td>...</td>\n",
       "    </tr>\n",
       "    <tr>\n",
       "      <td>9556</td>\n",
       "      <td>HQ27483</td>\n",
       "      <td>EFFECT:\\nBIR file rejected. Uncertainty about ...</td>\n",
       "      <td>kw</td>\n",
       "      <td>;</td>\n",
       "      <td>58</td>\n",
       "      <td>61</td>\n",
       "    </tr>\n",
       "    <tr>\n",
       "      <td>9558</td>\n",
       "      <td>HQ20521</td>\n",
       "      <td>EFFECT:\\r\\nModify DA with expiration date, BSC...</td>\n",
       "      <td>kw</td>\n",
       "      <td>;</td>\n",
       "      <td>58</td>\n",
       "      <td>61</td>\n",
       "    </tr>\n",
       "    <tr>\n",
       "      <td>9560</td>\n",
       "      <td>HQ15198</td>\n",
       "      <td>EFFECT: Event history will not be correct if t...</td>\n",
       "      <td>kw</td>\n",
       "      <td>;</td>\n",
       "      <td>58</td>\n",
       "      <td>61</td>\n",
       "    </tr>\n",
       "    <tr>\n",
       "      <td>9561</td>\n",
       "      <td>HP90064</td>\n",
       "      <td>EFFECT:\\nPAM class not changed (and inconsiste...</td>\n",
       "      <td>kw</td>\n",
       "      <td>;</td>\n",
       "      <td>58</td>\n",
       "      <td>61</td>\n",
       "    </tr>\n",
       "    <tr>\n",
       "      <td>9566</td>\n",
       "      <td>HP65447</td>\n",
       "      <td>Negative result of Promotion Plan Assignment i...</td>\n",
       "      <td>cx</td>\n",
       "      <td>lhsj_main/bscs/cms/src/clt/cx/java/com/lhs/ccb...</td>\n",
       "      <td>33</td>\n",
       "      <td>1185</td>\n",
       "    </tr>\n",
       "  </tbody>\n",
       "</table>\n",
       "<p>9438 rows × 6 columns</p>\n",
       "</div>"
      ],
      "text/plain": [
       "     general.eriref                            observation.observation  \\\n",
       "1           HX89043  1 EFFECT\\n1.1 Trouble summary\\nBCH is interrup...   \n",
       "2           HX88922  SLOGAN :\\nRounding of clawback with discount i...   \n",
       "3           HX88991  SLOGAN:- CX - CWS resource assignment issue\\n\\...   \n",
       "4           HX89000  SLOGAN:- Default value for GPRS activation \"Qu...   \n",
       "5           HX89004  SLOGAN:- CX || Memo creation page missing fiel...   \n",
       "...             ...                                                ...   \n",
       "9556        HQ27483  EFFECT:\\nBIR file rejected. Uncertainty about ...   \n",
       "9558        HQ20521  EFFECT:\\r\\nModify DA with expiration date, BSC...   \n",
       "9560        HQ15198  EFFECT: Event history will not be correct if t...   \n",
       "9561        HP90064  EFFECT:\\nPAM class not changed (and inconsiste...   \n",
       "9566        HP65447  Negative result of Promotion Plan Assignment i...   \n",
       "\n",
       "     mainmodule                                        sourcefiles  \\\n",
       "1           cms  lhsj_main/bscs/tests/robotScripts/src/main/tes...   \n",
       "2           bch  lhsj_main/bscs/tests/robotScripts/src/main/tes...   \n",
       "3           cms  lhsj_main/bscs/cms/src/cms/java/com/lhs/Resour...   \n",
       "4            cx  lhsj_main/bscs/cms/src/clt/cx/java/com/lhs/ccb...   \n",
       "5            cx  lhsj_main/bscs/tests/robotScripts/src/main/tes...   \n",
       "...         ...                                                ...   \n",
       "9556         kw                                                  ;   \n",
       "9558         kw                                                  ;   \n",
       "9560         kw                                                  ;   \n",
       "9561         kw                                                  ;   \n",
       "9566         cx  lhsj_main/bscs/cms/src/clt/cx/java/com/lhs/ccb...   \n",
       "\n",
       "      en_mainmodule  en_sourcefiles  \n",
       "1                29            2206  \n",
       "2                17            2040  \n",
       "3                29            1534  \n",
       "4                33            1227  \n",
       "5                33            2376  \n",
       "...             ...             ...  \n",
       "9556             58              61  \n",
       "9558             58              61  \n",
       "9560             58              61  \n",
       "9561             58              61  \n",
       "9566             33            1185  \n",
       "\n",
       "[9438 rows x 6 columns]"
      ]
     },
     "execution_count": 42,
     "metadata": {},
     "output_type": "execute_result"
    }
   ],
   "source": [
    "encoding_pipeline = Pipeline([\n",
    "    ('encoding',MultiColumnLabelEncoder(columns=['mainmodule','sourcefiles']))\n",
    "    # add more pipeline steps as needed\n",
    "])\n",
    "df_encode=encoding_pipeline.fit_transform(df)[['mainmodule','sourcefiles']]\n",
    "df_encode.rename(columns={'mainmodule' : 'en_mainmodule','sourcefiles':'en_sourcefiles'},inplace=True)\n",
    "new_df=pd.concat([df,df_encode], axis=1)\n",
    "new_df"
   ]
  },
  {
   "cell_type": "code",
   "execution_count": 47,
   "metadata": {},
   "outputs": [],
   "source": []
  },
  {
   "cell_type": "code",
   "execution_count": 43,
   "metadata": {},
   "outputs": [
    {
     "data": {
      "text/html": [
       "<div>\n",
       "<style scoped>\n",
       "    .dataframe tbody tr th:only-of-type {\n",
       "        vertical-align: middle;\n",
       "    }\n",
       "\n",
       "    .dataframe tbody tr th {\n",
       "        vertical-align: top;\n",
       "    }\n",
       "\n",
       "    .dataframe thead th {\n",
       "        text-align: right;\n",
       "    }\n",
       "</style>\n",
       "<table border=\"1\" class=\"dataframe\">\n",
       "  <thead>\n",
       "    <tr style=\"text-align: right;\">\n",
       "      <th></th>\n",
       "      <th>index</th>\n",
       "      <th>mainmodule</th>\n",
       "      <th>main_pre</th>\n",
       "    </tr>\n",
       "  </thead>\n",
       "  <tbody>\n",
       "    <tr>\n",
       "      <td>0</td>\n",
       "      <td>kw</td>\n",
       "      <td>4711</td>\n",
       "      <td>0.499152</td>\n",
       "    </tr>\n",
       "    <tr>\n",
       "      <td>1</td>\n",
       "      <td>cms</td>\n",
       "      <td>867</td>\n",
       "      <td>0.091863</td>\n",
       "    </tr>\n",
       "    <tr>\n",
       "      <td>2</td>\n",
       "      <td>cx</td>\n",
       "      <td>548</td>\n",
       "      <td>0.058063</td>\n",
       "    </tr>\n",
       "    <tr>\n",
       "      <td>3</td>\n",
       "      <td>dab</td>\n",
       "      <td>384</td>\n",
       "      <td>0.040687</td>\n",
       "    </tr>\n",
       "    <tr>\n",
       "      <td>4</td>\n",
       "      <td>bch</td>\n",
       "      <td>326</td>\n",
       "      <td>0.034541</td>\n",
       "    </tr>\n",
       "    <tr>\n",
       "      <td>...</td>\n",
       "      <td>...</td>\n",
       "      <td>...</td>\n",
       "      <td>...</td>\n",
       "    </tr>\n",
       "    <tr>\n",
       "      <td>98</td>\n",
       "      <td>pbs</td>\n",
       "      <td>1</td>\n",
       "      <td>0.000106</td>\n",
       "    </tr>\n",
       "    <tr>\n",
       "      <td>99</td>\n",
       "      <td>rch</td>\n",
       "      <td>1</td>\n",
       "      <td>0.000106</td>\n",
       "    </tr>\n",
       "    <tr>\n",
       "      <td>100</td>\n",
       "      <td>udmaplib</td>\n",
       "      <td>1</td>\n",
       "      <td>0.000106</td>\n",
       "    </tr>\n",
       "    <tr>\n",
       "      <td>101</td>\n",
       "      <td>bumt</td>\n",
       "      <td>1</td>\n",
       "      <td>0.000106</td>\n",
       "    </tr>\n",
       "    <tr>\n",
       "      <td>102</td>\n",
       "      <td>license</td>\n",
       "      <td>1</td>\n",
       "      <td>0.000106</td>\n",
       "    </tr>\n",
       "  </tbody>\n",
       "</table>\n",
       "<p>103 rows × 3 columns</p>\n",
       "</div>"
      ],
      "text/plain": [
       "        index  mainmodule  main_pre\n",
       "0          kw        4711  0.499152\n",
       "1         cms         867  0.091863\n",
       "2          cx         548  0.058063\n",
       "3         dab         384  0.040687\n",
       "4         bch         326  0.034541\n",
       "..        ...         ...       ...\n",
       "98        pbs           1  0.000106\n",
       "99        rch           1  0.000106\n",
       "100  udmaplib           1  0.000106\n",
       "101      bumt           1  0.000106\n",
       "102   license           1  0.000106\n",
       "\n",
       "[103 rows x 3 columns]"
      ]
     },
     "execution_count": 43,
     "metadata": {},
     "output_type": "execute_result"
    }
   ],
   "source": [
    "df_rate=df.groupby('mainmodule').sourcefiles.count().to_frame()\n",
    "df_rate.reset_index(level=0, inplace=True)\n",
    "\n",
    "df_mm=df['mainmodule'].value_counts().to_frame()\n",
    "df_mm.reset_index(level=0, inplace=True)\n",
    "df_mm['main_pre']=df_mm['mainmodule']/df_mm['mainmodule'].sum()\n",
    "df_mm"
   ]
  },
  {
   "cell_type": "code",
   "execution_count": 44,
   "metadata": {},
   "outputs": [
    {
     "data": {
      "image/png": "[encoded data removed]",
      "text/plain": [
       "<Figure size 1584x432 with 1 Axes>"
      ]
     },
     "metadata": {
      "needs_background": "light"
     },
     "output_type": "display_data"
    }
   ],
   "source": [
    "plt.figure(figsize=(22, 6))\n",
    "locations=np.arange(df.mainmodule.nunique())\n",
    "\n",
    "plt.bar(locations, df_mm['main_pre'], tick_label=df_mm['index']);\n",
    "plt.xticks(rotation = 90);"
   ]
  },
  {
   "cell_type": "code",
   "execution_count": 45,
   "metadata": {},
   "outputs": [
    {
     "data": {
      "text/plain": [
       "4711"
      ]
     },
     "execution_count": 45,
     "metadata": {},
     "output_type": "execute_result"
    }
   ],
   "source": [
    "df_rate['sourcefiles'].max()"
   ]
  },
  {
   "cell_type": "code",
   "execution_count": 46,
   "metadata": {},
   "outputs": [
    {
     "data": {
      "text/html": [
       "<div>\n",
       "<style scoped>\n",
       "    .dataframe tbody tr th:only-of-type {\n",
       "        vertical-align: middle;\n",
       "    }\n",
       "\n",
       "    .dataframe tbody tr th {\n",
       "        vertical-align: top;\n",
       "    }\n",
       "\n",
       "    .dataframe thead th {\n",
       "        text-align: right;\n",
       "    }\n",
       "</style>\n",
       "<table border=\"1\" class=\"dataframe\">\n",
       "  <thead>\n",
       "    <tr style=\"text-align: right;\">\n",
       "      <th></th>\n",
       "      <th>mainmodule</th>\n",
       "      <th>sourcefiles</th>\n",
       "    </tr>\n",
       "  </thead>\n",
       "  <tbody>\n",
       "    <tr>\n",
       "      <td>58</td>\n",
       "      <td>kw</td>\n",
       "      <td>4711</td>\n",
       "    </tr>\n",
       "  </tbody>\n",
       "</table>\n",
       "</div>"
      ],
      "text/plain": [
       "   mainmodule  sourcefiles\n",
       "58         kw         4711"
      ]
     },
     "execution_count": 46,
     "metadata": {},
     "output_type": "execute_result"
    }
   ],
   "source": [
    "\n",
    "df_rate.query('sourcefiles == \"4711\"')"
   ]
  },
  {
   "cell_type": "code",
   "execution_count": 47,
   "metadata": {},
   "outputs": [
    {
     "data": {
      "text/html": [
       "<div>\n",
       "<style scoped>\n",
       "    .dataframe tbody tr th:only-of-type {\n",
       "        vertical-align: middle;\n",
       "    }\n",
       "\n",
       "    .dataframe tbody tr th {\n",
       "        vertical-align: top;\n",
       "    }\n",
       "\n",
       "    .dataframe thead th {\n",
       "        text-align: right;\n",
       "    }\n",
       "</style>\n",
       "<table border=\"1\" class=\"dataframe\">\n",
       "  <thead>\n",
       "    <tr style=\"text-align: right;\">\n",
       "      <th></th>\n",
       "      <th>general.eriref</th>\n",
       "      <th>observation.observation</th>\n",
       "      <th>mainmodule</th>\n",
       "      <th>sourcefiles</th>\n",
       "      <th>en_mainmodule</th>\n",
       "      <th>en_sourcefiles</th>\n",
       "    </tr>\n",
       "  </thead>\n",
       "  <tbody>\n",
       "    <tr>\n",
       "      <td>13</td>\n",
       "      <td>HX88756</td>\n",
       "      <td>Revert fix of PCP1804 -EP28 (tmo-1.32.19-28) c...</td>\n",
       "      <td>kw</td>\n",
       "      <td>;</td>\n",
       "      <td>58</td>\n",
       "      <td>61</td>\n",
       "    </tr>\n",
       "    <tr>\n",
       "      <td>19</td>\n",
       "      <td>HX88459</td>\n",
       "      <td>1 EFFECT\\nCommand PRODUCT_OFFERING.WRITE is re...</td>\n",
       "      <td>kw</td>\n",
       "      <td>lhsj_main/bscs/tests/robotScripts/src/main/tes...</td>\n",
       "      <td>58</td>\n",
       "      <td>2266</td>\n",
       "    </tr>\n",
       "    <tr>\n",
       "      <td>27</td>\n",
       "      <td>HX87530</td>\n",
       "      <td>SLOGAN:- CX Unable to assign resource after se...</td>\n",
       "      <td>kw</td>\n",
       "      <td>;</td>\n",
       "      <td>58</td>\n",
       "      <td>61</td>\n",
       "    </tr>\n",
       "    <tr>\n",
       "      <td>30</td>\n",
       "      <td>HX87132</td>\n",
       "      <td>1 EFFECT\\nCurrently two automated tests fail i...</td>\n",
       "      <td>kw</td>\n",
       "      <td>lhsj_main/bscs/tests/robotScripts/src/main/tes...</td>\n",
       "      <td>58</td>\n",
       "      <td>2244</td>\n",
       "    </tr>\n",
       "    <tr>\n",
       "      <td>68</td>\n",
       "      <td>HX85094</td>\n",
       "      <td>Issue:-\\n=====\\n Invoice got generated even th...</td>\n",
       "      <td>kw</td>\n",
       "      <td>;</td>\n",
       "      <td>58</td>\n",
       "      <td>61</td>\n",
       "    </tr>\n",
       "    <tr>\n",
       "      <td>...</td>\n",
       "      <td>...</td>\n",
       "      <td>...</td>\n",
       "      <td>...</td>\n",
       "      <td>...</td>\n",
       "      <td>...</td>\n",
       "      <td>...</td>\n",
       "    </tr>\n",
       "    <tr>\n",
       "      <td>9552</td>\n",
       "      <td>HQ34493</td>\n",
       "      <td>EFFECT:\\r\\nAF recovery job for subscriber havi...</td>\n",
       "      <td>kw</td>\n",
       "      <td>;</td>\n",
       "      <td>58</td>\n",
       "      <td>61</td>\n",
       "    </tr>\n",
       "    <tr>\n",
       "      <td>9556</td>\n",
       "      <td>HQ27483</td>\n",
       "      <td>EFFECT:\\nBIR file rejected. Uncertainty about ...</td>\n",
       "      <td>kw</td>\n",
       "      <td>;</td>\n",
       "      <td>58</td>\n",
       "      <td>61</td>\n",
       "    </tr>\n",
       "    <tr>\n",
       "      <td>9558</td>\n",
       "      <td>HQ20521</td>\n",
       "      <td>EFFECT:\\r\\nModify DA with expiration date, BSC...</td>\n",
       "      <td>kw</td>\n",
       "      <td>;</td>\n",
       "      <td>58</td>\n",
       "      <td>61</td>\n",
       "    </tr>\n",
       "    <tr>\n",
       "      <td>9560</td>\n",
       "      <td>HQ15198</td>\n",
       "      <td>EFFECT: Event history will not be correct if t...</td>\n",
       "      <td>kw</td>\n",
       "      <td>;</td>\n",
       "      <td>58</td>\n",
       "      <td>61</td>\n",
       "    </tr>\n",
       "    <tr>\n",
       "      <td>9561</td>\n",
       "      <td>HP90064</td>\n",
       "      <td>EFFECT:\\nPAM class not changed (and inconsiste...</td>\n",
       "      <td>kw</td>\n",
       "      <td>;</td>\n",
       "      <td>58</td>\n",
       "      <td>61</td>\n",
       "    </tr>\n",
       "  </tbody>\n",
       "</table>\n",
       "<p>4711 rows × 6 columns</p>\n",
       "</div>"
      ],
      "text/plain": [
       "     general.eriref                            observation.observation  \\\n",
       "13          HX88756  Revert fix of PCP1804 -EP28 (tmo-1.32.19-28) c...   \n",
       "19          HX88459  1 EFFECT\\nCommand PRODUCT_OFFERING.WRITE is re...   \n",
       "27          HX87530  SLOGAN:- CX Unable to assign resource after se...   \n",
       "30          HX87132  1 EFFECT\\nCurrently two automated tests fail i...   \n",
       "68          HX85094  Issue:-\\n=====\\n Invoice got generated even th...   \n",
       "...             ...                                                ...   \n",
       "9552        HQ34493  EFFECT:\\r\\nAF recovery job for subscriber havi...   \n",
       "9556        HQ27483  EFFECT:\\nBIR file rejected. Uncertainty about ...   \n",
       "9558        HQ20521  EFFECT:\\r\\nModify DA with expiration date, BSC...   \n",
       "9560        HQ15198  EFFECT: Event history will not be correct if t...   \n",
       "9561        HP90064  EFFECT:\\nPAM class not changed (and inconsiste...   \n",
       "\n",
       "     mainmodule                                        sourcefiles  \\\n",
       "13           kw                                                  ;   \n",
       "19           kw  lhsj_main/bscs/tests/robotScripts/src/main/tes...   \n",
       "27           kw                                                  ;   \n",
       "30           kw  lhsj_main/bscs/tests/robotScripts/src/main/tes...   \n",
       "68           kw                                                  ;   \n",
       "...         ...                                                ...   \n",
       "9552         kw                                                  ;   \n",
       "9556         kw                                                  ;   \n",
       "9558         kw                                                  ;   \n",
       "9560         kw                                                  ;   \n",
       "9561         kw                                                  ;   \n",
       "\n",
       "      en_mainmodule  en_sourcefiles  \n",
       "13               58              61  \n",
       "19               58            2266  \n",
       "27               58              61  \n",
       "30               58            2244  \n",
       "68               58              61  \n",
       "...             ...             ...  \n",
       "9552             58              61  \n",
       "9556             58              61  \n",
       "9558             58              61  \n",
       "9560             58              61  \n",
       "9561             58              61  \n",
       "\n",
       "[4711 rows x 6 columns]"
      ]
     },
     "execution_count": 47,
     "metadata": {},
     "output_type": "execute_result"
    }
   ],
   "source": [
    "new_df.query('mainmodule ==\"kw\"')"
   ]
  },
  {
   "cell_type": "code",
   "execution_count": 48,
   "metadata": {},
   "outputs": [
    {
     "data": {
      "text/plain": [
       "Int64Index([  13,   27,   68,  101,  102,  103,  107,  158,  182,  213,\n",
       "            ...\n",
       "            9516, 9520, 9521, 9523, 9549, 9552, 9556, 9558, 9560, 9561],\n",
       "           dtype='int64', length=4523)"
      ]
     },
     "execution_count": 48,
     "metadata": {},
     "output_type": "execute_result"
    }
   ],
   "source": [
    "new_df.query('sourcefiles ==\";\"').index"
   ]
  },
  {
   "cell_type": "code",
   "execution_count": 49,
   "metadata": {},
   "outputs": [],
   "source": [
    "Source_file_df = new_df[new_df.sourcefiles != \";\"]"
   ]
  },
  {
   "cell_type": "code",
   "execution_count": 50,
   "metadata": {},
   "outputs": [
    {
     "data": {
      "text/html": [
       "<div>\n",
       "<style scoped>\n",
       "    .dataframe tbody tr th:only-of-type {\n",
       "        vertical-align: middle;\n",
       "    }\n",
       "\n",
       "    .dataframe tbody tr th {\n",
       "        vertical-align: top;\n",
       "    }\n",
       "\n",
       "    .dataframe thead th {\n",
       "        text-align: right;\n",
       "    }\n",
       "</style>\n",
       "<table border=\"1\" class=\"dataframe\">\n",
       "  <thead>\n",
       "    <tr style=\"text-align: right;\">\n",
       "      <th></th>\n",
       "      <th>general.eriref</th>\n",
       "      <th>observation.observation</th>\n",
       "      <th>mainmodule</th>\n",
       "      <th>sourcefiles</th>\n",
       "      <th>en_mainmodule</th>\n",
       "      <th>en_sourcefiles</th>\n",
       "    </tr>\n",
       "  </thead>\n",
       "  <tbody>\n",
       "    <tr>\n",
       "      <td>1</td>\n",
       "      <td>HX89043</td>\n",
       "      <td>1 EFFECT\\n1.1 Trouble summary\\nBCH is interrup...</td>\n",
       "      <td>cms</td>\n",
       "      <td>lhsj_main/bscs/tests/robotScripts/src/main/tes...</td>\n",
       "      <td>29</td>\n",
       "      <td>2206</td>\n",
       "    </tr>\n",
       "    <tr>\n",
       "      <td>2</td>\n",
       "      <td>HX88922</td>\n",
       "      <td>SLOGAN :\\nRounding of clawback with discount i...</td>\n",
       "      <td>bch</td>\n",
       "      <td>lhsj_main/bscs/tests/robotScripts/src/main/tes...</td>\n",
       "      <td>17</td>\n",
       "      <td>2040</td>\n",
       "    </tr>\n",
       "    <tr>\n",
       "      <td>3</td>\n",
       "      <td>HX88991</td>\n",
       "      <td>SLOGAN:- CX - CWS resource assignment issue\\n\\...</td>\n",
       "      <td>cms</td>\n",
       "      <td>lhsj_main/bscs/cms/src/cms/java/com/lhs/Resour...</td>\n",
       "      <td>29</td>\n",
       "      <td>1534</td>\n",
       "    </tr>\n",
       "    <tr>\n",
       "      <td>4</td>\n",
       "      <td>HX89000</td>\n",
       "      <td>SLOGAN:- Default value for GPRS activation \"Qu...</td>\n",
       "      <td>cx</td>\n",
       "      <td>lhsj_main/bscs/cms/src/clt/cx/java/com/lhs/ccb...</td>\n",
       "      <td>33</td>\n",
       "      <td>1227</td>\n",
       "    </tr>\n",
       "    <tr>\n",
       "      <td>5</td>\n",
       "      <td>HX89004</td>\n",
       "      <td>SLOGAN:- CX || Memo creation page missing fiel...</td>\n",
       "      <td>cx</td>\n",
       "      <td>lhsj_main/bscs/tests/robotScripts/src/main/tes...</td>\n",
       "      <td>33</td>\n",
       "      <td>2376</td>\n",
       "    </tr>\n",
       "    <tr>\n",
       "      <td>...</td>\n",
       "      <td>...</td>\n",
       "      <td>...</td>\n",
       "      <td>...</td>\n",
       "      <td>...</td>\n",
       "      <td>...</td>\n",
       "      <td>...</td>\n",
       "    </tr>\n",
       "    <tr>\n",
       "      <td>9504</td>\n",
       "      <td>HQ86199</td>\n",
       "      <td>Abstract : CSadptor could not establish connec...</td>\n",
       "      <td>csadapters</td>\n",
       "      <td>lhsj_main/bscs/cms/src/csadapters/src/com/lhs/...</td>\n",
       "      <td>32</td>\n",
       "      <td>1648</td>\n",
       "    </tr>\n",
       "    <tr>\n",
       "      <td>9526</td>\n",
       "      <td>HQ54935</td>\n",
       "      <td>Error: Data too large for Excel cell</td>\n",
       "      <td>dab</td>\n",
       "      <td>05b8de65cf2 ClearCase update;lhsj_main/bscs/ba...</td>\n",
       "      <td>34</td>\n",
       "      <td>0</td>\n",
       "    </tr>\n",
       "    <tr>\n",
       "      <td>9547</td>\n",
       "      <td>HQ41287</td>\n",
       "      <td>EFFECT:\\r\\nNot all ADMX batch jobs working on ...</td>\n",
       "      <td>bch</td>\n",
       "      <td>298d00809d1 ClearCase update;lhsj_main/bscs/ba...</td>\n",
       "      <td>17</td>\n",
       "      <td>16</td>\n",
       "    </tr>\n",
       "    <tr>\n",
       "      <td>9551</td>\n",
       "      <td>HQ35705</td>\n",
       "      <td>EFFECT:\\n\\nAccount identifers above 255 not po...</td>\n",
       "      <td>cms</td>\n",
       "      <td>129f5776a33 ClearCase update;lhsj_main/bscs/ba...</td>\n",
       "      <td>29</td>\n",
       "      <td>6</td>\n",
       "    </tr>\n",
       "    <tr>\n",
       "      <td>9566</td>\n",
       "      <td>HP65447</td>\n",
       "      <td>Negative result of Promotion Plan Assignment i...</td>\n",
       "      <td>cx</td>\n",
       "      <td>lhsj_main/bscs/cms/src/clt/cx/java/com/lhs/ccb...</td>\n",
       "      <td>33</td>\n",
       "      <td>1185</td>\n",
       "    </tr>\n",
       "  </tbody>\n",
       "</table>\n",
       "<p>4915 rows × 6 columns</p>\n",
       "</div>"
      ],
      "text/plain": [
       "     general.eriref                            observation.observation  \\\n",
       "1           HX89043  1 EFFECT\\n1.1 Trouble summary\\nBCH is interrup...   \n",
       "2           HX88922  SLOGAN :\\nRounding of clawback with discount i...   \n",
       "3           HX88991  SLOGAN:- CX - CWS resource assignment issue\\n\\...   \n",
       "4           HX89000  SLOGAN:- Default value for GPRS activation \"Qu...   \n",
       "5           HX89004  SLOGAN:- CX || Memo creation page missing fiel...   \n",
       "...             ...                                                ...   \n",
       "9504        HQ86199  Abstract : CSadptor could not establish connec...   \n",
       "9526        HQ54935               Error: Data too large for Excel cell   \n",
       "9547        HQ41287  EFFECT:\\r\\nNot all ADMX batch jobs working on ...   \n",
       "9551        HQ35705  EFFECT:\\n\\nAccount identifers above 255 not po...   \n",
       "9566        HP65447  Negative result of Promotion Plan Assignment i...   \n",
       "\n",
       "      mainmodule                                        sourcefiles  \\\n",
       "1            cms  lhsj_main/bscs/tests/robotScripts/src/main/tes...   \n",
       "2            bch  lhsj_main/bscs/tests/robotScripts/src/main/tes...   \n",
       "3            cms  lhsj_main/bscs/cms/src/cms/java/com/lhs/Resour...   \n",
       "4             cx  lhsj_main/bscs/cms/src/clt/cx/java/com/lhs/ccb...   \n",
       "5             cx  lhsj_main/bscs/tests/robotScripts/src/main/tes...   \n",
       "...          ...                                                ...   \n",
       "9504  csadapters  lhsj_main/bscs/cms/src/csadapters/src/com/lhs/...   \n",
       "9526         dab  05b8de65cf2 ClearCase update;lhsj_main/bscs/ba...   \n",
       "9547         bch  298d00809d1 ClearCase update;lhsj_main/bscs/ba...   \n",
       "9551         cms  129f5776a33 ClearCase update;lhsj_main/bscs/ba...   \n",
       "9566          cx  lhsj_main/bscs/cms/src/clt/cx/java/com/lhs/ccb...   \n",
       "\n",
       "      en_mainmodule  en_sourcefiles  \n",
       "1                29            2206  \n",
       "2                17            2040  \n",
       "3                29            1534  \n",
       "4                33            1227  \n",
       "5                33            2376  \n",
       "...             ...             ...  \n",
       "9504             32            1648  \n",
       "9526             34               0  \n",
       "9547             17              16  \n",
       "9551             29               6  \n",
       "9566             33            1185  \n",
       "\n",
       "[4915 rows x 6 columns]"
      ]
     },
     "execution_count": 50,
     "metadata": {},
     "output_type": "execute_result"
    }
   ],
   "source": [
    "Source_file_df"
   ]
  },
  {
   "cell_type": "code",
   "execution_count": 51,
   "metadata": {},
   "outputs": [
    {
     "data": {
      "text/html": [
       "<div>\n",
       "<style scoped>\n",
       "    .dataframe tbody tr th:only-of-type {\n",
       "        vertical-align: middle;\n",
       "    }\n",
       "\n",
       "    .dataframe tbody tr th {\n",
       "        vertical-align: top;\n",
       "    }\n",
       "\n",
       "    .dataframe thead th {\n",
       "        text-align: right;\n",
       "    }\n",
       "</style>\n",
       "<table border=\"1\" class=\"dataframe\">\n",
       "  <thead>\n",
       "    <tr style=\"text-align: right;\">\n",
       "      <th></th>\n",
       "      <th>index</th>\n",
       "      <th>mainmodule</th>\n",
       "      <th>main_pre</th>\n",
       "    </tr>\n",
       "  </thead>\n",
       "  <tbody>\n",
       "    <tr>\n",
       "      <td>0</td>\n",
       "      <td>cms</td>\n",
       "      <td>867</td>\n",
       "      <td>0.176399</td>\n",
       "    </tr>\n",
       "    <tr>\n",
       "      <td>1</td>\n",
       "      <td>cx</td>\n",
       "      <td>548</td>\n",
       "      <td>0.111495</td>\n",
       "    </tr>\n",
       "    <tr>\n",
       "      <td>2</td>\n",
       "      <td>dab</td>\n",
       "      <td>384</td>\n",
       "      <td>0.078128</td>\n",
       "    </tr>\n",
       "    <tr>\n",
       "      <td>3</td>\n",
       "      <td>bch</td>\n",
       "      <td>326</td>\n",
       "      <td>0.066328</td>\n",
       "    </tr>\n",
       "    <tr>\n",
       "      <td>4</td>\n",
       "      <td>servlib</td>\n",
       "      <td>194</td>\n",
       "      <td>0.039471</td>\n",
       "    </tr>\n",
       "    <tr>\n",
       "      <td>...</td>\n",
       "      <td>...</td>\n",
       "      <td>...</td>\n",
       "      <td>...</td>\n",
       "    </tr>\n",
       "    <tr>\n",
       "      <td>98</td>\n",
       "      <td>jdxlib</td>\n",
       "      <td>1</td>\n",
       "      <td>0.000203</td>\n",
       "    </tr>\n",
       "    <tr>\n",
       "      <td>99</td>\n",
       "      <td>rch</td>\n",
       "      <td>1</td>\n",
       "      <td>0.000203</td>\n",
       "    </tr>\n",
       "    <tr>\n",
       "      <td>100</td>\n",
       "      <td>udmaplib</td>\n",
       "      <td>1</td>\n",
       "      <td>0.000203</td>\n",
       "    </tr>\n",
       "    <tr>\n",
       "      <td>101</td>\n",
       "      <td>license</td>\n",
       "      <td>1</td>\n",
       "      <td>0.000203</td>\n",
       "    </tr>\n",
       "    <tr>\n",
       "      <td>102</td>\n",
       "      <td>rulelib</td>\n",
       "      <td>1</td>\n",
       "      <td>0.000203</td>\n",
       "    </tr>\n",
       "  </tbody>\n",
       "</table>\n",
       "<p>103 rows × 3 columns</p>\n",
       "</div>"
      ],
      "text/plain": [
       "        index  mainmodule  main_pre\n",
       "0         cms         867  0.176399\n",
       "1          cx         548  0.111495\n",
       "2         dab         384  0.078128\n",
       "3         bch         326  0.066328\n",
       "4     servlib         194  0.039471\n",
       "..        ...         ...       ...\n",
       "98     jdxlib           1  0.000203\n",
       "99        rch           1  0.000203\n",
       "100  udmaplib           1  0.000203\n",
       "101   license           1  0.000203\n",
       "102   rulelib           1  0.000203\n",
       "\n",
       "[103 rows x 3 columns]"
      ]
     },
     "execution_count": 51,
     "metadata": {},
     "output_type": "execute_result"
    }
   ],
   "source": [
    "df_rate=Source_file_df.groupby('mainmodule').sourcefiles.count().to_frame()\n",
    "df_rate.reset_index(level=0, inplace=True)\n",
    "\n",
    "df_mm=Source_file_df['mainmodule'].value_counts().to_frame()\n",
    "df_mm.reset_index(level=0, inplace=True)\n",
    "df_mm['main_pre']=df_mm['mainmodule']/df_mm['mainmodule'].sum()\n",
    "df_mm"
   ]
  },
  {
   "cell_type": "code",
   "execution_count": 52,
   "metadata": {},
   "outputs": [
    {
     "data": {
      "image/png": "[encoded data removed]",
      "text/plain": [
       "<Figure size 1584x432 with 1 Axes>"
      ]
     },
     "metadata": {
      "needs_background": "light"
     },
     "output_type": "display_data"
    }
   ],
   "source": [
    "plt.figure(figsize=(22, 6))\n",
    "locations=np.arange(df.mainmodule.nunique())\n",
    "\n",
    "plt.bar(locations, df_mm['main_pre'], tick_label=df_mm['index']);\n",
    "plt.xticks(rotation = 90);"
   ]
  },
  {
   "cell_type": "code",
   "execution_count": 22,
   "metadata": {},
   "outputs": [
    {
     "data": {
      "text/plain": [
       "(9438, 53364)"
      ]
     },
     "execution_count": 22,
     "metadata": {},
     "output_type": "execute_result"
    }
   ],
   "source": [
    "X_main =  feature_extraction.text.CountVectorizer(stop_words = 'english')\n",
    "X_main = X_main.fit_transform(new_df[\"observation.observation\"])\n",
    "X_main.shape"
   ]
  },
  {
   "cell_type": "code",
   "execution_count": 23,
   "metadata": {},
   "outputs": [],
   "source": [
    "y_main=new_df['en_mainmodule']\n",
    "\n",
    "#y1=df['mainmodule']\n",
    "#y2=df['sourcefiles']\n",
    "#le=LabelEncoder()\n",
    "#le.fit(y)"
   ]
  },
  {
   "cell_type": "code",
   "execution_count": 24,
   "metadata": {},
   "outputs": [
    {
     "name": "stdout",
     "output_type": "stream",
     "text": [
      "[(7550, 53364), (1888, 53364)]\n",
      "[(7550,), (1888,)]\n"
     ]
    }
   ],
   "source": [
    "X_train, X_test, y_train, y_test = model_selection.train_test_split(X_main, y_main, test_size=0.2, random_state=42)\n",
    "print([X_train.shape, X_test.shape])\n",
    "print([y_train.shape, y_test.shape])"
   ]
  },
  {
   "cell_type": "code",
   "execution_count": 89,
   "metadata": {},
   "outputs": [
    {
     "name": "stdout",
     "output_type": "stream",
     "text": [
      "MultinomialNB accuracy: 0.6302966101694916\n",
      "SVM accuracy: 0.7733050847457628\n"
     ]
    }
   ],
   "source": [
    "from sklearn.metrics import precision_score, classification_report, roc_auc_score,average_precision_score,accuracy_score\n",
    "\n",
    "#model = MultinomialNB()\n",
    "\n",
    "clf = MultinomialNB()\n",
    "clf.fit(X_train, y_train)\n",
    "y_pred = clf.predict(X_test)\n",
    "print('MultinomialNB accuracy:',accuracy_score(y_test, y_pred))\n",
    "from sklearn.svm import SVC\n",
    "sv_clf = SVC(kernel=\"rbf\",C=10000,gamma='auto')\n",
    "sv_clf.fit(X_train, y_train)\n",
    "sv_pred=sv_clf.predict(X_test)\n",
    "print('SVM accuracy:',accuracy_score(y_test, sv_pred))"
   ]
  },
  {
   "cell_type": "code",
   "execution_count": 26,
   "metadata": {},
   "outputs": [
    {
     "name": "stdout",
     "output_type": "stream",
     "text": [
      "0.7733050847457628\n"
     ]
    }
   ],
   "source": []
  },
  {
   "cell_type": "code",
   "execution_count": 72,
   "metadata": {},
   "outputs": [
    {
     "data": {
      "text/html": [
       "<div>\n",
       "<style scoped>\n",
       "    .dataframe tbody tr th:only-of-type {\n",
       "        vertical-align: middle;\n",
       "    }\n",
       "\n",
       "    .dataframe tbody tr th {\n",
       "        vertical-align: top;\n",
       "    }\n",
       "\n",
       "    .dataframe thead th {\n",
       "        text-align: right;\n",
       "    }\n",
       "</style>\n",
       "<table border=\"1\" class=\"dataframe\">\n",
       "  <thead>\n",
       "    <tr style=\"text-align: right;\">\n",
       "      <th></th>\n",
       "      <th>general.eriref</th>\n",
       "      <th>observation.observation</th>\n",
       "      <th>mainmodule</th>\n",
       "      <th>sourcefiles</th>\n",
       "      <th>en_mainmodule</th>\n",
       "      <th>en_sourcefiles</th>\n",
       "      <th>unstemmed</th>\n",
       "      <th>stemmed</th>\n",
       "    </tr>\n",
       "  </thead>\n",
       "  <tbody>\n",
       "    <tr>\n",
       "      <td>1</td>\n",
       "      <td>HX89043</td>\n",
       "      <td>1 EFFECT\\n1.1 Trouble summary\\nBCH is interrup...</td>\n",
       "      <td>cms</td>\n",
       "      <td>lhsj_main/bscs/tests/robotScripts/src/main/tes...</td>\n",
       "      <td>29</td>\n",
       "      <td>2206</td>\n",
       "      <td>[1, EFFECT, 1.1, Trouble, summary, BCH, is, in...</td>\n",
       "      <td>1effect\\n1.1troublsummary\\nbchisinterruptwithe...</td>\n",
       "    </tr>\n",
       "    <tr>\n",
       "      <td>2</td>\n",
       "      <td>HX88922</td>\n",
       "      <td>SLOGAN :\\nRounding of clawback with discount i...</td>\n",
       "      <td>bch</td>\n",
       "      <td>lhsj_main/bscs/tests/robotScripts/src/main/tes...</td>\n",
       "      <td>17</td>\n",
       "      <td>2040</td>\n",
       "      <td>[SLOGAN, :, Rounding, of, clawback, with, disc...</td>\n",
       "      <td>slogan:\\nroundofclawbackwithdiscountisnotcorre...</td>\n",
       "    </tr>\n",
       "    <tr>\n",
       "      <td>3</td>\n",
       "      <td>HX88991</td>\n",
       "      <td>SLOGAN:- CX - CWS resource assignment issue\\n\\...</td>\n",
       "      <td>cms</td>\n",
       "      <td>lhsj_main/bscs/cms/src/cms/java/com/lhs/Resour...</td>\n",
       "      <td>29</td>\n",
       "      <td>1534</td>\n",
       "      <td>[SLOGAN:-, CX, -, CWS, resource, assignment, i...</td>\n",
       "      <td>slogan:-cx-cwsresourcassignissue\\n\\nbscinstali...</td>\n",
       "    </tr>\n",
       "    <tr>\n",
       "      <td>4</td>\n",
       "      <td>HX89000</td>\n",
       "      <td>SLOGAN:- Default value for GPRS activation \"Qu...</td>\n",
       "      <td>cx</td>\n",
       "      <td>lhsj_main/bscs/cms/src/clt/cx/java/com/lhs/ccb...</td>\n",
       "      <td>33</td>\n",
       "      <td>1227</td>\n",
       "      <td>[SLOGAN:-, Default, value, for, GPRS, activati...</td>\n",
       "      <td>slogan:-defaultvaluforgprsactiv\"qualitiofservi...</td>\n",
       "    </tr>\n",
       "    <tr>\n",
       "      <td>5</td>\n",
       "      <td>HX89004</td>\n",
       "      <td>SLOGAN:- CX || Memo creation page missing fiel...</td>\n",
       "      <td>cx</td>\n",
       "      <td>lhsj_main/bscs/tests/robotScripts/src/main/tes...</td>\n",
       "      <td>33</td>\n",
       "      <td>2376</td>\n",
       "      <td>[SLOGAN:-, CX, ||, Memo, creation, page, missi...</td>\n",
       "      <td>slogan:-cx||memocreationpagemissfield\"deadline...</td>\n",
       "    </tr>\n",
       "  </tbody>\n",
       "</table>\n",
       "</div>"
      ],
      "text/plain": [
       "  general.eriref                            observation.observation  \\\n",
       "1        HX89043  1 EFFECT\\n1.1 Trouble summary\\nBCH is interrup...   \n",
       "2        HX88922  SLOGAN :\\nRounding of clawback with discount i...   \n",
       "3        HX88991  SLOGAN:- CX - CWS resource assignment issue\\n\\...   \n",
       "4        HX89000  SLOGAN:- Default value for GPRS activation \"Qu...   \n",
       "5        HX89004  SLOGAN:- CX || Memo creation page missing fiel...   \n",
       "\n",
       "  mainmodule                                        sourcefiles  \\\n",
       "1        cms  lhsj_main/bscs/tests/robotScripts/src/main/tes...   \n",
       "2        bch  lhsj_main/bscs/tests/robotScripts/src/main/tes...   \n",
       "3        cms  lhsj_main/bscs/cms/src/cms/java/com/lhs/Resour...   \n",
       "4         cx  lhsj_main/bscs/cms/src/clt/cx/java/com/lhs/ccb...   \n",
       "5         cx  lhsj_main/bscs/tests/robotScripts/src/main/tes...   \n",
       "\n",
       "   en_mainmodule  en_sourcefiles  \\\n",
       "1             29            2206   \n",
       "2             17            2040   \n",
       "3             29            1534   \n",
       "4             33            1227   \n",
       "5             33            2376   \n",
       "\n",
       "                                           unstemmed  \\\n",
       "1  [1, EFFECT, 1.1, Trouble, summary, BCH, is, in...   \n",
       "2  [SLOGAN, :, Rounding, of, clawback, with, disc...   \n",
       "3  [SLOGAN:-, CX, -, CWS, resource, assignment, i...   \n",
       "4  [SLOGAN:-, Default, value, for, GPRS, activati...   \n",
       "5  [SLOGAN:-, CX, ||, Memo, creation, page, missi...   \n",
       "\n",
       "                                             stemmed  \n",
       "1  1effect\\n1.1troublsummary\\nbchisinterruptwithe...  \n",
       "2  slogan:\\nroundofclawbackwithdiscountisnotcorre...  \n",
       "3  slogan:-cx-cwsresourcassignissue\\n\\nbscinstali...  \n",
       "4  slogan:-defaultvaluforgprsactiv\"qualitiofservi...  \n",
       "5  slogan:-cx||memocreationpagemissfield\"deadline...  "
      ]
     },
     "execution_count": 72,
     "metadata": {},
     "output_type": "execute_result"
    }
   ],
   "source": [
    "# prepare the data for NLTK \n",
    "new_df['unstemmed']=new_df['observation.observation'].apply(lambda x:x.split())\n",
    "new_df.head()"
   ]
  },
  {
   "cell_type": "code",
   "execution_count": 73,
   "metadata": {},
   "outputs": [
    {
     "data": {
      "text/html": [
       "<div>\n",
       "<style scoped>\n",
       "    .dataframe tbody tr th:only-of-type {\n",
       "        vertical-align: middle;\n",
       "    }\n",
       "\n",
       "    .dataframe tbody tr th {\n",
       "        vertical-align: top;\n",
       "    }\n",
       "\n",
       "    .dataframe thead th {\n",
       "        text-align: right;\n",
       "    }\n",
       "</style>\n",
       "<table border=\"1\" class=\"dataframe\">\n",
       "  <thead>\n",
       "    <tr style=\"text-align: right;\">\n",
       "      <th></th>\n",
       "      <th>general.eriref</th>\n",
       "      <th>observation.observation</th>\n",
       "      <th>mainmodule</th>\n",
       "      <th>sourcefiles</th>\n",
       "      <th>en_mainmodule</th>\n",
       "      <th>en_sourcefiles</th>\n",
       "      <th>unstemmed</th>\n",
       "      <th>stemmed</th>\n",
       "    </tr>\n",
       "  </thead>\n",
       "  <tbody>\n",
       "    <tr>\n",
       "      <td>1</td>\n",
       "      <td>HX89043</td>\n",
       "      <td>1 EFFECT\\n1.1 Trouble summary\\nBCH is interrup...</td>\n",
       "      <td>cms</td>\n",
       "      <td>lhsj_main/bscs/tests/robotScripts/src/main/tes...</td>\n",
       "      <td>29</td>\n",
       "      <td>2206</td>\n",
       "      <td>[1, EFFECT, 1.1, Trouble, summary, BCH, is, in...</td>\n",
       "      <td>[1, effect, 1.1, troubl, summari, bch, is, int...</td>\n",
       "    </tr>\n",
       "    <tr>\n",
       "      <td>2</td>\n",
       "      <td>HX88922</td>\n",
       "      <td>SLOGAN :\\nRounding of clawback with discount i...</td>\n",
       "      <td>bch</td>\n",
       "      <td>lhsj_main/bscs/tests/robotScripts/src/main/tes...</td>\n",
       "      <td>17</td>\n",
       "      <td>2040</td>\n",
       "      <td>[SLOGAN, :, Rounding, of, clawback, with, disc...</td>\n",
       "      <td>[slogan, :, round, of, clawback, with, discoun...</td>\n",
       "    </tr>\n",
       "  </tbody>\n",
       "</table>\n",
       "</div>"
      ],
      "text/plain": [
       "  general.eriref                            observation.observation  \\\n",
       "1        HX89043  1 EFFECT\\n1.1 Trouble summary\\nBCH is interrup...   \n",
       "2        HX88922  SLOGAN :\\nRounding of clawback with discount i...   \n",
       "\n",
       "  mainmodule                                        sourcefiles  \\\n",
       "1        cms  lhsj_main/bscs/tests/robotScripts/src/main/tes...   \n",
       "2        bch  lhsj_main/bscs/tests/robotScripts/src/main/tes...   \n",
       "\n",
       "   en_mainmodule  en_sourcefiles  \\\n",
       "1             29            2206   \n",
       "2             17            2040   \n",
       "\n",
       "                                           unstemmed  \\\n",
       "1  [1, EFFECT, 1.1, Trouble, summary, BCH, is, in...   \n",
       "2  [SLOGAN, :, Rounding, of, clawback, with, disc...   \n",
       "\n",
       "                                             stemmed  \n",
       "1  [1, effect, 1.1, troubl, summari, bch, is, int...  \n",
       "2  [slogan, :, round, of, clawback, with, discoun...  "
      ]
     },
     "execution_count": 73,
     "metadata": {},
     "output_type": "execute_result"
    }
   ],
   "source": [
    "new_df['stemmed']=new_df['unstemmed'].apply(lambda x: [stemmer.stem(y) for y in x])\n",
    "new_df.head(2)"
   ]
  },
  {
   "cell_type": "code",
   "execution_count": 74,
   "metadata": {},
   "outputs": [
    {
     "data": {
      "text/html": [
       "<div>\n",
       "<style scoped>\n",
       "    .dataframe tbody tr th:only-of-type {\n",
       "        vertical-align: middle;\n",
       "    }\n",
       "\n",
       "    .dataframe tbody tr th {\n",
       "        vertical-align: top;\n",
       "    }\n",
       "\n",
       "    .dataframe thead th {\n",
       "        text-align: right;\n",
       "    }\n",
       "</style>\n",
       "<table border=\"1\" class=\"dataframe\">\n",
       "  <thead>\n",
       "    <tr style=\"text-align: right;\">\n",
       "      <th></th>\n",
       "      <th>general.eriref</th>\n",
       "      <th>observation.observation</th>\n",
       "      <th>mainmodule</th>\n",
       "      <th>sourcefiles</th>\n",
       "      <th>en_mainmodule</th>\n",
       "      <th>en_sourcefiles</th>\n",
       "      <th>unstemmed</th>\n",
       "      <th>stemmed</th>\n",
       "    </tr>\n",
       "  </thead>\n",
       "  <tbody>\n",
       "    <tr>\n",
       "      <td>1</td>\n",
       "      <td>HX89043</td>\n",
       "      <td>1 EFFECT\\n1.1 Trouble summary\\nBCH is interrup...</td>\n",
       "      <td>cms</td>\n",
       "      <td>lhsj_main/bscs/tests/robotScripts/src/main/tes...</td>\n",
       "      <td>29</td>\n",
       "      <td>2206</td>\n",
       "      <td>[1, EFFECT, 1.1, Trouble, summary, BCH, is, in...</td>\n",
       "      <td>1 effect 1.1 troubl summari bch is interrupt w...</td>\n",
       "    </tr>\n",
       "    <tr>\n",
       "      <td>2</td>\n",
       "      <td>HX88922</td>\n",
       "      <td>SLOGAN :\\nRounding of clawback with discount i...</td>\n",
       "      <td>bch</td>\n",
       "      <td>lhsj_main/bscs/tests/robotScripts/src/main/tes...</td>\n",
       "      <td>17</td>\n",
       "      <td>2040</td>\n",
       "      <td>[SLOGAN, :, Rounding, of, clawback, with, disc...</td>\n",
       "      <td>slogan : round of clawback with discount is no...</td>\n",
       "    </tr>\n",
       "  </tbody>\n",
       "</table>\n",
       "</div>"
      ],
      "text/plain": [
       "  general.eriref                            observation.observation  \\\n",
       "1        HX89043  1 EFFECT\\n1.1 Trouble summary\\nBCH is interrup...   \n",
       "2        HX88922  SLOGAN :\\nRounding of clawback with discount i...   \n",
       "\n",
       "  mainmodule                                        sourcefiles  \\\n",
       "1        cms  lhsj_main/bscs/tests/robotScripts/src/main/tes...   \n",
       "2        bch  lhsj_main/bscs/tests/robotScripts/src/main/tes...   \n",
       "\n",
       "   en_mainmodule  en_sourcefiles  \\\n",
       "1             29            2206   \n",
       "2             17            2040   \n",
       "\n",
       "                                           unstemmed  \\\n",
       "1  [1, EFFECT, 1.1, Trouble, summary, BCH, is, in...   \n",
       "2  [SLOGAN, :, Rounding, of, clawback, with, disc...   \n",
       "\n",
       "                                             stemmed  \n",
       "1  1 effect 1.1 troubl summari bch is interrupt w...  \n",
       "2  slogan : round of clawback with discount is no...  "
      ]
     },
     "execution_count": 74,
     "metadata": {},
     "output_type": "execute_result"
    }
   ],
   "source": [
    "new_df['stemmed']=new_df['stemmed'].apply(lambda x:\" \".join(x))\n",
    "new_df.head(2)"
   ]
  },
  {
   "cell_type": "code",
   "execution_count": 86,
   "metadata": {},
   "outputs": [
    {
     "data": {
      "text/plain": [
       "(9438, 54118)"
      ]
     },
     "execution_count": 86,
     "metadata": {},
     "output_type": "execute_result"
    }
   ],
   "source": [
    "# Vectorize the stemmed data\n",
    "X_main_stem =  feature_extraction.text.CountVectorizer(lowercase=True,stop_words=sw,ngram_range = (1,1))\n",
    "X_main_stem = X_main_stem.fit_transform(new_df[\"stemmed\"])\n",
    "X_main_stem.shape"
   ]
  },
  {
   "cell_type": "code",
   "execution_count": 87,
   "metadata": {},
   "outputs": [
    {
     "name": "stdout",
     "output_type": "stream",
     "text": [
      "[(7550, 54118), (1888, 54118)]\n",
      "[(7550,), (1888,)]\n"
     ]
    }
   ],
   "source": [
    "y_main_stem=new_df['mainmodule']\n",
    "X_train_stem, X_test_stem, y_train_stem, y_test_stem = model_selection.train_test_split(X_main_stem, y_main_stem, test_size=0.2, random_state=42)\n",
    "print([X_train_stem.shape, X_test_stem.shape])\n",
    "print([y_train_stem.shape, y_test_stem.shape])"
   ]
  },
  {
   "cell_type": "code",
   "execution_count": 88,
   "metadata": {},
   "outputs": [
    {
     "name": "stdout",
     "output_type": "stream",
     "text": [
      "NB accuracy 0.6091101694915254\n",
      "SVM accuracy 0.7791313559322034\n"
     ]
    }
   ],
   "source": [
    "from sklearn.metrics import precision_score, classification_report, roc_auc_score,average_precision_score,accuracy_score\n",
    "\n",
    "#model = MultinomialNB()\n",
    "\n",
    "clf = MultinomialNB()\n",
    "clf.fit(X_train_stem, y_train_stem)\n",
    "y_pred_stem = clf.predict(X_test_stem)\n",
    "print(\"NB accuracy {}\".format(accuracy_score(y_test_stem, y_pred_stem)))\n",
    "from sklearn.svm import SVC\n",
    "sv_clf = SVC(kernel=\"rbf\",C=10000,gamma='auto')\n",
    "sv_clf.fit(X_train_stem, y_train_stem)\n",
    "sv_pred_stem=sv_clf.predict(X_test_stem)\n",
    "print(\"SVM accuracy {}\".format(accuracy_score(y_test_stem, sv_pred_stem)))"
   ]
  },
  {
   "cell_type": "code",
   "execution_count": 27,
   "metadata": {},
   "outputs": [
    {
     "data": {
      "text/plain": [
       "(4915, 33742)"
      ]
     },
     "execution_count": 27,
     "metadata": {},
     "output_type": "execute_result"
    }
   ],
   "source": [
    "# predict the source file \n",
    "X_source =  feature_extraction.text.CountVectorizer(stop_words = 'english')\n",
    "X_source = X_source.fit_transform(Source_file_df[\"observation.observation\"])\n",
    "X_source.shape"
   ]
  },
  {
   "cell_type": "code",
   "execution_count": 28,
   "metadata": {},
   "outputs": [
    {
     "data": {
      "text/plain": [
       "(4915, 1)"
      ]
     },
     "execution_count": 28,
     "metadata": {},
     "output_type": "execute_result"
    }
   ],
   "source": [
    "main_ar=list(Source_file_df.iloc[:,4:5].values)\n",
    "main_ar=np.array(main_ar)\n",
    "main_ar.shape"
   ]
  },
  {
   "cell_type": "code",
   "execution_count": 29,
   "metadata": {},
   "outputs": [
    {
     "data": {
      "text/plain": [
       "(4915, 33743)"
      ]
     },
     "execution_count": 29,
     "metadata": {},
     "output_type": "execute_result"
    }
   ],
   "source": [
    "import scipy.sparse as sp\n",
    "#X_source=np.transpose(X_source)\n",
    "#main_ar=np.transpose(main_ar)\n",
    "X_new=np.append(X_source.toarray(),main_ar,axis=1)\n",
    "X_new.shape"
   ]
  },
  {
   "cell_type": "code",
   "execution_count": 30,
   "metadata": {},
   "outputs": [],
   "source": [
    "y_source=Source_file_df['en_sourcefiles']"
   ]
  },
  {
   "cell_type": "code",
   "execution_count": 31,
   "metadata": {},
   "outputs": [
    {
     "name": "stdout",
     "output_type": "stream",
     "text": [
      "[(3932, 33742), (983, 33742)]\n",
      "[(3932,), (983,)]\n"
     ]
    }
   ],
   "source": [
    "XS_train, XS_test, ys_train, ys_test = model_selection.train_test_split(X_source, y_source, test_size=0.2, random_state=42)\n",
    "print([XS_train.shape, XS_test.shape])\n",
    "print([ys_train.shape, ys_test.shape])"
   ]
  },
  {
   "cell_type": "code",
   "execution_count": 32,
   "metadata": {},
   "outputs": [
    {
     "name": "stdout",
     "output_type": "stream",
     "text": [
      "0.4262461851475076\n"
     ]
    }
   ],
   "source": [
    "clf_source = MultinomialNB()\n",
    "clf_source.fit(XS_train, ys_train)\n",
    "ys_pred = clf_source.predict(XS_test)\n",
    "print(accuracy_score(ys_test, ys_pred))"
   ]
  },
  {
   "cell_type": "code",
   "execution_count": null,
   "metadata": {},
   "outputs": [],
   "source": [
    "from sklearn.svm import SVC\n",
    "sv_clf_source = SVC(kernel=\"rbf\",C=10000,gamma='auto')\n",
    "sv_clf_source.fit(XS_train, ys_train)\n",
    "sv_pred_source=sv_clf_source.predict(XS_test)\n",
    "print(accuracy_score(ys_test, sv_pred_source))"
   ]
  },
  {
   "cell_type": "code",
   "execution_count": 138,
   "metadata": {},
   "outputs": [
    {
     "name": "stdout",
     "output_type": "stream",
     "text": [
      "[(3932, 33743), (983, 33743)]\n",
      "[(3932,), (983,)]\n"
     ]
    }
   ],
   "source": [
    "# add the modul to the prediction modle\n",
    "XSn_train, XSn_test, ysn_train, ysn_test = model_selection.train_test_split(X_new, y_source, test_size=0.2, random_state=42)\n",
    "print([XSn_train.shape, XSn_test.shape])\n",
    "print([ysn_train.shape, ysn_test.shape])"
   ]
  },
  {
   "cell_type": "code",
   "execution_count": 139,
   "metadata": {},
   "outputs": [
    {
     "name": "stdout",
     "output_type": "stream",
     "text": [
      "0.4262461851475076\n"
     ]
    }
   ],
   "source": [
    "clf_sourcen = MultinomialNB()\n",
    "clf_sourcen.fit(XS_train, ys_train)\n",
    "ysn_pred= clf_sourcen.predict(XS_test)\n",
    "print(accuracy_score(ysn_test, ysn_pred))"
   ]
  }
 ],
 "metadata": {
  "kernelspec": {
   "display_name": "Python 3",
   "language": "python",
   "name": "python3"
  },
  "language_info": {
   "codemirror_mode": {
    "name": "ipython",
    "version": 3
   },
   "file_extension": ".py",
   "mimetype": "text/x-python",
   "name": "python",
   "nbconvert_exporter": "python",
   "pygments_lexer": "ipython3",
   "version": "3.7.4"
  }
 },
 "nbformat": 4,
 "nbformat_minor": 2
}
